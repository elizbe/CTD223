{
 "cells": [
  {
   "cell_type": "code",
   "execution_count": 96,
   "metadata": {
    "collapsed": true
   },
   "outputs": [],
   "source": [
    "import numpy as np\n",
    "import scipy as sp"
   ]
  },
  {
   "cell_type": "markdown",
   "metadata": {},
   "source": [
    "Example 10.1 in SV&A  uses acetonitrile (1) and nitromethane (2).  This system obeys Raoult's law.  We will do a Dew point T calculation using the built in optimization function (fsolve) and by creating our own fixed point iteration loop (while loop)"
   ]
  },
  {
   "cell_type": "code",
   "execution_count": 97,
   "metadata": {
    "collapsed": true
   },
   "outputs": [],
   "source": [
    "from scipy.optimize import fsolve  # import the function fsolve from the scipy.optimize package "
   ]
  },
  {
   "cell_type": "code",
   "execution_count": 98,
   "metadata": {},
   "outputs": [],
   "source": [
    "#Given variables is Pressure and y1 = z1\n",
    "P = 70 #kPa\n",
    "z1 = 0.84\n",
    "y1 = z1\n",
    "y3 = z1 + y1"
   ]
  },
  {
   "cell_type": "code",
   "execution_count": 99,
   "metadata": {
    "collapsed": true
   },
   "outputs": [],
   "source": [
    "#you can create separate functions for the parameters that are functions of the variables you want to solve\n",
    "def Psats(T): #takes as argument T in °C\n",
    "    P1sat = np.exp(14.2724 - 2945.47/(T + 224))\n",
    "    P2sat = np.exp(14.2043 - 2972.64/(T + 209.0))\n",
    "    return [P1sat, P2sat]"
   ]
  },
  {
   "cell_type": "markdown",
   "metadata": {},
   "source": [
    "If you want to use the built in solver (fsolve) you have to creat a function that returns the answer to the equations that must be zero if the correct variable set (var) is passed to that function:"
   ]
  },
  {
   "cell_type": "code",
   "execution_count": 100,
   "metadata": {
    "collapsed": true
   },
   "outputs": [],
   "source": [
    "def Eqs(var):\n",
    "    T, x1 = var\n",
    "    Eq1 = P - x1*Psats(T)[0] - (1-x1)*Psats(T)[1]\n",
    "    Eq2 = P*y1 - x1*Psats(T)[0]\n",
    "    return[Eq1, Eq2]"
   ]
  },
  {
   "cell_type": "markdown",
   "metadata": {},
   "source": [
    "You have to give an initial guess value of the variables that needs to be passed to your function in order to help Python find a realistic spot to start the loop"
   ]
  },
  {
   "cell_type": "code",
   "execution_count": 101,
   "metadata": {},
   "outputs": [
    {
     "name": "stdout",
     "output_type": "stream",
     "text": [
      "Dewpoint T =  74.2 , x1 =  0.725\n"
     ]
    }
   ],
   "source": [
    "guess = [80, 0.5] # make sure that the order of the variables is the same as that used in the function, here T,x\n",
    "Tx = fsolve(Eqs, guess)\n",
    "print('Dewpoint T = ',np.round(Tx[0],1),', x1 = ',np.round(Tx[1],3))"
   ]
  },
  {
   "cell_type": "markdown",
   "metadata": {},
   "source": [
    "Start of the Fixed point iteration solution procedure"
   ]
  },
  {
   "cell_type": "code",
   "execution_count": 102,
   "metadata": {},
   "outputs": [
    {
     "name": "stdout",
     "output_type": "stream",
     "text": [
      "Dewpoint T =  74.0 , x1 =  0.725\n"
     ]
    }
   ],
   "source": [
    "error = 5 #choose an error larger than your tolerance to make sure the loop starts\n",
    "Tguess = 80 # this is the initial guess value of the parameter that you will iterate\n",
    "\n",
    "while error > 0.001: # set your tolerance for the variable that you are busy calculating, i.e T answer can be out by 0.001 °C\n",
    "    x1 = y1*P/Psats(Tguess)[0]\n",
    "    ratio = Psats(Tguess)[1]/Psats(Tguess)[0]\n",
    "    Psat1 = P/(x + (1-x)*ratio)  # from P = x1*P1sat + (1-x1)*P2sat,make P1sat by dividing the equation by P1sat and taking the inverse\n",
    "    Tnew = -1/((np.log(Psat1) - 14.2724)/2945.47) - 224# calculate new guess value for T from Antoine of component 1, \n",
    "    error = np.abs(Tnew - Tguess) #test for convergence, absolute value used to avoid negative errors more appropriate error function can be used\n",
    "    Tguess = Tnew #restart loop\n",
    "T = Tguess # if the error is small enough the answer is reached\n",
    "\n",
    "print('Dewpoint T = ',np.round(Tx[0],0),', x1 = ',np.round(Tx[1],3))\n",
    "    "
   ]
  }
 ],
 "metadata": {
  "kernelspec": {
   "display_name": "Python 3",
   "language": "python",
   "name": "python3"
  },
  "language_info": {
   "codemirror_mode": {
    "name": "ipython",
    "version": 3
   },
   "file_extension": ".py",
   "mimetype": "text/x-python",
   "name": "python",
   "nbconvert_exporter": "python",
   "pygments_lexer": "ipython3",
   "version": "3.6.4"
  }
 },
 "nbformat": 4,
 "nbformat_minor": 2
}
