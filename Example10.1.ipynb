{
 "cells": [
  {
   "cell_type": "code",
   "execution_count": 11,
   "metadata": {
    "collapsed": true
   },
   "outputs": [],
   "source": [
    "% matplotlib inline\n",
    "from matplotlib import pyplot as plt\n",
    "import numpy as np\n",
    "import scipy as sp\n",
    "from scipy.optimize import fsolve"
   ]
  },
  {
   "cell_type": "markdown",
   "metadata": {},
   "source": [
    "Example 10.1 in SV&A  uses acetonitrile (1) and nitromethane (2).  This system obeys Raoult's law.  We will do a Dew point T calculation using the built in optimization function (fsolve) and by creating our own fixed point iteration loop (while loop)"
   ]
  },
  {
   "cell_type": "code",
   "execution_count": 3,
   "metadata": {
    "collapsed": true
   },
   "outputs": [],
   "source": [
    "def Psats(T): #takes as argument T in °C\n",
    "    P1sat = np.exp(14.2724 - 2945.47/(T + 224))\n",
    "    P2sat = np.exp(14.2043 - 2972.64/(T + 209.0))\n",
    "    return [P1sat, P2sat]"
   ]
  },
  {
   "cell_type": "code",
   "execution_count": 64,
   "metadata": {},
   "outputs": [],
   "source": [
    "#Given variables is Pressure and y1 = z1\n",
    "P = 70 #kPa\n",
    "z1 = 0.84\n",
    "y1 = z1"
   ]
  },
  {
   "cell_type": "code",
   "execution_count": 65,
   "metadata": {
    "collapsed": true
   },
   "outputs": [],
   "source": [
    "def Eqs(var):\n",
    "    T, x1 = var\n",
    "    Eq1 = P - x1*Psats(T)[0] - (1-x1)*Psats(T)[1]\n",
    "    Eq2 = P*y1 - x1*Psats(T)[0]\n",
    "    return[Eq1, Eq2]"
   ]
  },
  {
   "cell_type": "code",
   "execution_count": 80,
   "metadata": {},
   "outputs": [
    {
     "name": "stdout",
     "output_type": "stream",
     "text": [
      "Dewpoint T =  74.2 , x1 =  0.725\n"
     ]
    }
   ],
   "source": [
    "Tx = fsolve(Eqs, [80, 0.5])\n",
    "print('Dewpoint T = ',np.round(Tx[0],1),', x1 = ',np.round(Tx[1],3))"
   ]
  },
  {
   "cell_type": "code",
   "execution_count": 81,
   "metadata": {},
   "outputs": [
    {
     "name": "stdout",
     "output_type": "stream",
     "text": [
      "Dewpoint T =  74.0 , x1 =  0.725\n"
     ]
    }
   ],
   "source": [
    "error = 5 #choose an error larger than your tolerance to make sure the loop starts\n",
    "Tguess = 80\n",
    "while error > 0.001: # set your tolerance for the variable that you are busy calculating\n",
    "    x1 = y1*P/Psats(Tguess)[0]\n",
    "    ratio = Psats(Tguess)[1]/Psats(Tguess)[0]\n",
    "    Psat1 = P/(x + (1-x)*ratio)  # from P = x1*P1sat + (1-x1)*P2sat,make P1sat by dividing the equation by P1sat and taking the inverse\n",
    "    Tnew = -1/((np.log(Psat1) - 14.2724)/2945.47) - 224# calculate new guess value for T from Antoine of component 1, \n",
    "    error = np.abs(Tnew - Tguess) #test for convergence, absolute value used to avoid negative errors\n",
    "    Tguess = Tnew #restart loop\n",
    "T = Tguess\n",
    "\n",
    "print('Dewpoint T = ',np.round(Tx[0],0),', x1 = ',np.round(Tx[1],3))\n",
    "    "
   ]
  },
  {
   "cell_type": "code",
   "execution_count": null,
   "metadata": {
    "collapsed": true
   },
   "outputs": [],
   "source": []
  }
 ],
 "metadata": {
  "kernelspec": {
   "display_name": "Python 3",
   "language": "python",
   "name": "python3"
  },
  "language_info": {
   "codemirror_mode": {
    "name": "ipython",
    "version": 3
   },
   "file_extension": ".py",
   "mimetype": "text/x-python",
   "name": "python",
   "nbconvert_exporter": "python",
   "pygments_lexer": "ipython3",
   "version": "3.6.1"
  }
 },
 "nbformat": 4,
 "nbformat_minor": 2
}
